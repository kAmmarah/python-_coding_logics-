{
 "cells": [
  {
   "cell_type": "code",
   "execution_count": 19,
   "metadata": {},
   "outputs": [
    {
     "name": "stdout",
     "output_type": "stream",
     "text": [
      "result >>> {2, 4}\n"
     ]
    }
   ],
   "source": [
    "# 6, intersection\n",
    "num_set_1 = {1,2,3,4}\n",
    "num_set_2 = {2,4,5,6,7,}\n",
    "result = num_set_1.intersection(num_set_2)\n",
    "print(\"result >>>\", result)"
   ]
  },
  {
   "cell_type": "code",
   "execution_count": 18,
   "metadata": {},
   "outputs": [
    {
     "name": "stdout",
     "output_type": "stream",
     "text": [
      "result >>> {1, 2, 3, 4, 5, 6, 7}\n"
     ]
    }
   ],
   "source": [
    "# 5, union\n",
    "num_set_1 = {1,2,3,4}\n",
    "num_set_2 = {2,4,5,6,7,}\n",
    "result = num_set_1.union(num_set_2)\n",
    "print(\"result >>>\", result)"
   ]
  },
  {
   "cell_type": "code",
   "execution_count": 17,
   "metadata": {},
   "outputs": [
    {
     "name": "stdout",
     "output_type": "stream",
     "text": [
      "print update name {'Ali', 'ali', 'Abdullah'}\n"
     ]
    }
   ],
   "source": [
    "# 4. pop\n",
    "num_set = {\"ali\",\" Amir\", \"Ali\", \"Abdullah\"}\n",
    "num_set.pop()\n",
    "\n",
    "print(\"print update name\", num_set)"
   ]
  },
  {
   "cell_type": "code",
   "execution_count": 16,
   "metadata": {},
   "outputs": [
    {
     "name": "stdout",
     "output_type": "stream",
     "text": [
      "print update name {' Amir', 'Ali', 'ali', 'Abdullah'}\n"
     ]
    }
   ],
   "source": [
    "# 3. Discard\n",
    "num_set = {\"ali\",\" Amir\", \"Ali\", \"Abdullah\"}\n",
    "num_set.discard(\"Aneeq\")\n",
    "\n",
    "print(\"print update name\", num_set)"
   ]
  },
  {
   "cell_type": "code",
   "execution_count": 15,
   "metadata": {},
   "outputs": [
    {
     "name": "stdout",
     "output_type": "stream",
     "text": [
      "print update name {' Amir', 'Ali', 'ali'}\n"
     ]
    }
   ],
   "source": [
    "# 2. remove\n",
    "num_set = {\"ali\",\" Amir\", \"Ali\", \"Abdullah\"}\n",
    "num_set.remove(\"Abdullah\")\n",
    "\n",
    "print(\"print update name\", num_set)"
   ]
  },
  {
   "cell_type": "code",
   "execution_count": 14,
   "metadata": {},
   "outputs": [
    {
     "name": "stdout",
     "output_type": "stream",
     "text": [
      "print update name {'ali', 'Ali', 'Aneeq', 'Abdullah', ' Amir'}\n"
     ]
    }
   ],
   "source": [
    "# 1. Add\n",
    "num_set = {\"ali\",\" Amir\", \"Ali\", \"Abdullah\"}\n",
    "num_set.add(\"Aneeq\")\n",
    "\n",
    "print(\"print update name\", num_set)"
   ]
  },
  {
   "cell_type": "code",
   "execution_count": 13,
   "metadata": {},
   "outputs": [
    {
     "name": "stdout",
     "output_type": "stream",
     "text": [
      "takes to parameter and retrun their sum\n",
      "4\n"
     ]
    }
   ],
   "source": [
    "def addition(num1: int, num2: int) -> int:\n",
    "    \"\"\"takes to parameter and retrun their sum\"\"\"   # biluten function is called Doc string \n",
    "    return num1 + num2\n",
    "result = addition (2,2)\n",
    "print (addition.__doc__) \n",
    "print(result)"
   ]
  },
  {
   "cell_type": "code",
   "execution_count": 12,
   "metadata": {},
   "outputs": [
    {
     "name": "stdout",
     "output_type": "stream",
     "text": [
      "takes to parameter and retrun their sum\n",
      "4\n"
     ]
    }
   ],
   "source": [
    "def addition(num1: int, num2: int) -> int:\n",
    "    \"\"\"takes to parameter and retrun their sum\"\"\"   # biluten function is called Doc string \n",
    "    return num1 + num2\n",
    "result = addition (2,2)\n",
    "print (addition.__doc__) \n",
    "print(result)"
   ]
  },
  {
   "cell_type": "markdown",
   "metadata": {},
   "source": [
    "Set Method\n",
    "1. add\n",
    "2. remove\n",
    "3. discard\n",
    "4. pop\n",
    "5. union \n",
    "6. intersection"
   ]
  },
  {
   "cell_type": "code",
   "execution_count": 7,
   "metadata": {},
   "outputs": [
    {
     "name": "stdout",
     "output_type": "stream",
     "text": [
      "num_X outside funtion one, num_X\n",
      "num_x inside function 10\n",
      " Hello How are you ?\n",
      "num_x outside function 10\n",
      "result>>> 20\n"
     ]
    }
   ],
   "source": [
    "num_x = 5 \n",
    "print(\"num_X outside funtion one, num_X\")\n",
    "\n",
    "def hello():\n",
    "  global num_x\n",
    "  global result\n",
    "  num_x = 10\n",
    "  result = 10 + 10\n",
    "  print(\"num_x inside function\", num_x)\n",
    "  print(\" Hello How are you ?\")\n",
    "\n",
    "hello()\n",
    "print(\"num_x outside function\", num_x)\n",
    "print(\"result>>>\", result)"
   ]
  },
  {
   "cell_type": "code",
   "execution_count": 9,
   "metadata": {},
   "outputs": [
    {
     "name": "stdout",
     "output_type": "stream",
     "text": [
      "num_X outside funtion one, num_X\n",
      "num_x inside function 10\n",
      " Hello How are you ?\n",
      "num_x outside function 10\n"
     ]
    }
   ],
   "source": [
    "num_x = 5 \n",
    "print(\"num_X outside funtion one, num_X\")\n",
    "\n",
    "def hello():\n",
    "  global num_x\n",
    "  global result\n",
    "  num_x = 10\n",
    "  print(\"num_x inside function\", num_x)\n",
    "  print(\" Hello How are you ?\")\n",
    "\n",
    "hello()\n",
    "print(\"num_x outside function\", num_x)"
   ]
  },
  {
   "cell_type": "code",
   "execution_count": 10,
   "metadata": {},
   "outputs": [
    {
     "name": "stdout",
     "output_type": "stream",
     "text": [
      "num_X outside funtion one, num_X\n",
      "num_x inside function 10\n",
      " Hello How are you ?\n",
      "num_x outside function 10\n"
     ]
    }
   ],
   "source": [
    "num_x = 5 \n",
    "print(\"num_X outside funtion one, num_X\")\n",
    "\n",
    "def hello():\n",
    "   global num_x\n",
    "   num_x = 10\n",
    "   print(\"num_x inside function\", num_x)\n",
    "   print(\" Hello How are you ?\")\n",
    "\n",
    "hello()\n",
    "print(\"num_x outside function\", num_x)"
   ]
  },
  {
   "cell_type": "code",
   "execution_count": 11,
   "metadata": {},
   "outputs": [
    {
     "name": "stdout",
     "output_type": "stream",
     "text": [
      "num_X outside funtion one, num_X\n",
      "num_x inside function 10\n",
      " Hello How are you ?\n",
      "num_x outside function 5\n"
     ]
    }
   ],
   "source": [
    "num_x = 5 \n",
    "print(\"num_X outside funtion one, num_X\")\n",
    "\n",
    "def hello():\n",
    "   num_x = 10\n",
    "   print(\"num_x inside function\", num_x)\n",
    "   print(\" Hello How are you ?\")\n",
    "\n",
    "hello()\n",
    "print(\"num_x outside function\", num_x)"
   ]
  },
  {
   "cell_type": "code",
   "execution_count": 8,
   "metadata": {},
   "outputs": [
    {
     "name": "stdout",
     "output_type": "stream",
     "text": [
      "please provide valid index\n"
     ]
    }
   ],
   "source": [
    "num = [1,2,3,4]\n",
    "\n",
    "try:\n",
    "    result = num[4]\n",
    "except ZeroDivisionError:\n",
    "    print(\"number zero is not disvible\")\n",
    "except IndexError:\n",
    "    print(\"please provide valid index\")"
   ]
  },
  {
   "cell_type": "code",
   "execution_count": 4,
   "metadata": {},
   "outputs": [
    {
     "name": "stdout",
     "output_type": "stream",
     "text": [
      "number zero is not divisible\n"
     ]
    }
   ],
   "source": [
    "num_one = 10\n",
    "num_two = 0\n",
    "\n",
    "try:\n",
    "    num_one/ num_two\n",
    "    print(result)\n",
    "except ZeroDivisionError:\n",
    "    print(\"number zero is not divisible\")"
   ]
  },
  {
   "cell_type": "code",
   "execution_count": 3,
   "metadata": {},
   "outputs": [
    {
     "name": "stdout",
     "output_type": "stream",
     "text": [
      "2 x 1 = 2\n",
      "2 x 2 = 4\n",
      "2 x 3 = 6\n",
      "2 x 4 = 8\n",
      "2 x 5 = 10\n",
      "2 x 6 = 12\n",
      "2 x 7 = 14\n",
      "2 x 8 = 16\n",
      "2 x 9 = 18\n",
      "2 x 10 = 20\n"
     ]
    }
   ],
   "source": [
    "try:\n",
    "  user_input = int(input(\"enter your number\"))\n",
    "\n",
    "  for num in range(1,11):\n",
    "    print(f\"{user_input} x {num} = {num * user_input}\")\n",
    "\n",
    "    # print(\"the table is print\")\n",
    "except Exception as error:\n",
    "  print(error)"
   ]
  },
  {
   "cell_type": "code",
   "execution_count": 2,
   "metadata": {},
   "outputs": [
    {
     "name": "stdout",
     "output_type": "stream",
     "text": [
      "hi how are you ?\n"
     ]
    }
   ],
   "source": [
    "print(\"hi how are you ?\")"
   ]
  },
  {
   "cell_type": "markdown",
   "metadata": {},
   "source": [
    "local and Globale variable"
   ]
  }
 ],
 "metadata": {
  "kernelspec": {
   "display_name": "Python 3",
   "language": "python",
   "name": "python3"
  },
  "language_info": {
   "codemirror_mode": {
    "name": "ipython",
    "version": 3
   },
   "file_extension": ".py",
   "mimetype": "text/x-python",
   "name": "python",
   "nbconvert_exporter": "python",
   "pygments_lexer": "ipython3",
   "version": "3.13.1"
  }
 },
 "nbformat": 4,
 "nbformat_minor": 2
}
