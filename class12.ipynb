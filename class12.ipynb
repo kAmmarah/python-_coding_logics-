{
 "cells": [
  {
   "cell_type": "markdown",
   "metadata": {},
   "source": [
    "# Recursive function & Recursive"
   ]
  },
  {
   "cell_type": "code",
   "execution_count": null,
   "metadata": {},
   "outputs": [],
   "source": [
    "def count_down():\n",
    "    count_down()\n",
    "#count_down()"
   ]
  },
  {
   "cell_type": "code",
   "execution_count": 1,
   "metadata": {},
   "outputs": [
    {
     "name": "stdout",
     "output_type": "stream",
     "text": [
      "num>>>> 10\n",
      "num>>>> 9\n",
      "num>>>> 8\n",
      "num>>>> 7\n",
      "num>>>> 6\n",
      "num>>>> 5\n",
      "num>>>> 4\n",
      "num>>>> 3\n",
      "num>>>> 2\n",
      "num>>>> 1\n",
      "Count down Done\n"
     ]
    }
   ],
   "source": [
    "def count_down(num: int)-> int:\n",
    "    if num <= 0:\n",
    "        print(\"Count down Done\")\n",
    "    else:\n",
    "        print(\"num>>>>\", num)   # 10  -> 9\n",
    "        #print(\"num>>>>\", num - 1)# -9 -1 -> 8\n",
    "        count_down(num -1)\n",
    "count_down(10)\n",
    "#count_down(-10)"
   ]
  },
  {
   "cell_type": "markdown",
   "metadata": {},
   "source": [
    "Lamba function"
   ]
  },
  {
   "cell_type": "code",
   "execution_count": null,
   "metadata": {},
   "outputs": [],
   "source": [
    "def add(a:int,b:int)->int:\n",
    "    return a+b\n",
    "result = add(5,6)"
   ]
  },
  {
   "cell_type": "code",
   "execution_count": 2,
   "metadata": {},
   "outputs": [
    {
     "name": "stdout",
     "output_type": "stream",
     "text": [
      "result>>> 11\n"
     ]
    }
   ],
   "source": [
    "#one line function is called lamda function\n",
    "#lambda argument: expression/ statement\n",
    "add = lambda a,b: a + b\n",
    "\n",
    "result =add(5, 6)\n",
    "print(\"result>>>\", result)"
   ]
  },
  {
   "cell_type": "markdown",
   "metadata": {},
   "source": [
    "Assigment square with lamaba function or Factorial Function"
   ]
  },
  {
   "cell_type": "code",
   "execution_count": 9,
   "metadata": {},
   "outputs": [
    {
     "name": "stdout",
     "output_type": "stream",
     "text": [
      "[1, 4, 9, 16, 25, 36, 49, 64, 81, 100]\n"
     ]
    }
   ],
   "source": [
    "nums = [1, 2, 3, 4, 5, 6, 7, 8, 9, 10]\n",
    "square_nums = list(map(lambda x: x ** 2, nums))\n",
    "print(square_nums)"
   ]
  },
  {
   "cell_type": "code",
   "execution_count": null,
   "metadata": {},
   "outputs": [],
   "source": [
    "def factorial(num1:int)-> int:\n",
    "    if num1 == 0:\n",
    "        return 1\n",
    "    else:\n",
    "        return num1 * factorial(num1 - 1)\n",
    "    user = int(input(\"Enter a number of Factorial\"))\n",
    "    result = (factorial(user))\n",
    "    print(f\"The factorial of {user} is {result}\")\n",
    "    "
   ]
  },
  {
   "cell_type": "code",
   "execution_count": 32,
   "metadata": {},
   "outputs": [
    {
     "name": "stdout",
     "output_type": "stream",
     "text": [
      "The factorial of 6 is 720\n"
     ]
    }
   ],
   "source": [
    "def factorial(num):\n",
    "    result = 1\n",
    "    for i in range(1, num + 1):\n",
    "        result *= i  # Multiply result by each number up to num\n",
    "    return result\n",
    "\n",
    "# Getting input from the user\n",
    "user = int(input(\"Enter a number to find its factorial: \"))\n",
    "result = factorial(user)\n",
    "\n",
    "# Printing the result\n",
    "print(\"The factorial of\", user, \"is\", result)\n"
   ]
  },
  {
   "cell_type": "code",
   "execution_count": 26,
   "metadata": {},
   "outputs": [
    {
     "name": "stdout",
     "output_type": "stream",
     "text": [
      "cwd /Users/ammarah/Desktop/python _coding_logics /class work\n",
      "list dir ['app.ipynb', '.DS_Store', 'class8.py', 'text2,txt', 'class1to5.py', 'class12.ipynb', 'app.py', 'text2.txt', 'text.txt', 'class11.ipynb']\n"
     ]
    }
   ],
   "source": [
    "# \"os\" means operating system and this is called class\n",
    "import os \n",
    "#-> cwd is called curent working drictory\n",
    "print(\"cwd\",os.getcwd())\n",
    "print(\"list dir\", os.listdir())\n",
    "#print(\"new folder\",os.mkdir(\"test\"))\n",
    "#print(\"rename\",os.rename(\"test\",\"test new\"))\n",
    "#print(\"rename\",os.rename(\"test\",\"test latest\"))  making new folder and also rename new files name \n",
    "#os.remove(\"test\")\n",
    "#os.rmdir(\"test\")"
   ]
  },
  {
   "cell_type": "code",
   "execution_count": 18,
   "metadata": {},
   "outputs": [],
   "source": [
    "#file = open(\"/Users/YourUsername/FolderName/text.txt\", \"r\")\n"
   ]
  },
  {
   "cell_type": "code",
   "execution_count": 15,
   "metadata": {},
   "outputs": [
    {
     "name": "stdout",
     "output_type": "stream",
     "text": [
      "/Users/ammarah/Desktop/python _coding_logics /class work\n"
     ]
    }
   ],
   "source": [
    "import os\n",
    "print(os.getcwd())"
   ]
  },
  {
   "cell_type": "code",
   "execution_count": 16,
   "metadata": {},
   "outputs": [],
   "source": [
    "file = open(\"text.txt\", \"w\")  # Create a new file for writing\n",
    "file.write(\"This is a new text!\")\n",
    "file.close()"
   ]
  },
  {
   "cell_type": "code",
   "execution_count": 17,
   "metadata": {},
   "outputs": [
    {
     "name": "stdout",
     "output_type": "stream",
     "text": [
      "This is a new text!\n"
     ]
    }
   ],
   "source": [
    "file = open(\"text.txt\", \"r\")\n",
    "print(file.read())\n",
    "file.close()"
   ]
  },
  {
   "cell_type": "code",
   "execution_count": 20,
   "metadata": {},
   "outputs": [],
   "source": [
    "file = open(\"text2,txt\",\"w\")\n",
    "file.write(\"hi how are you\")\n",
    "file.write(\"I am fine\")\n",
    "file.close()"
   ]
  },
  {
   "cell_type": "code",
   "execution_count": 21,
   "metadata": {},
   "outputs": [],
   "source": [
    "file = open(\"text2,txt\",\"a\")\n",
    "file.write(\"I am fine\")\n",
    "file.close()"
   ]
  },
  {
   "cell_type": "code",
   "execution_count": 23,
   "metadata": {},
   "outputs": [],
   "source": [
    "with open(\"text2.txt\", \"a\") as file:  # Corrected syntax\n",
    "    file.write(\"Adding some new text!\\n\")\n"
   ]
  }
 ],
 "metadata": {
  "kernelspec": {
   "display_name": "Python 3",
   "language": "python",
   "name": "python3"
  },
  "language_info": {
   "codemirror_mode": {
    "name": "ipython",
    "version": 3
   },
   "file_extension": ".py",
   "mimetype": "text/x-python",
   "name": "python",
   "nbconvert_exporter": "python",
   "pygments_lexer": "ipython3",
   "version": "3.13.1"
  }
 },
 "nbformat": 4,
 "nbformat_minor": 2
}
