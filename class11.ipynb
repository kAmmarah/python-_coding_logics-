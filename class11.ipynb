{
 "cells": [
  {
   "cell_type": "markdown",
   "metadata": {},
   "source": [
    "         16 feb class 10\n",
    "**short Hand if/ else Ternary Operators**"
   ]
  },
  {
   "cell_type": "code",
   "execution_count": 18,
   "metadata": {},
   "outputs": [
    {
     "name": "stdout",
     "output_type": "stream",
     "text": [
      "number is less than 10\n"
     ]
    }
   ],
   "source": [
    "num: int = 10\n",
    "if num > 10:\n",
    " int(\"number is greator than 10\")\n",
    " num = num + 10\n",
    " print(\"num>>>\", num)\n",
    "else:\n",
    "    print(\"number is less than 10\")"
   ]
  },
  {
   "cell_type": "code",
   "execution_count": 19,
   "metadata": {},
   "outputs": [
    {
     "name": "stdout",
     "output_type": "stream",
     "text": [
      "number is less than 10\n"
     ]
    }
   ],
   "source": [
    "#candition \n",
    "#statment\n",
    "#starment if condition else stetament\n",
    "num : int = 9\n",
    "print(\"num is greator than 10\") if num > 10 else print(\"number is less than 10\")\n",
    "#print(\"num is greator than 10\") if num > 10 else print(\"number is less than 10\")"
   ]
  },
  {
   "cell_type": "code",
   "execution_count": 20,
   "metadata": {},
   "outputs": [
    {
     "name": "stdout",
     "output_type": "stream",
     "text": [
      "num>>> 5\n",
      "num2>>> 20\n"
     ]
    }
   ],
   "source": [
    "num = 5\n",
    "# # num2 = agaer condition true value 20 warana value 10\n",
    "# num = 10 if num < 10 else 5\n",
    "\n",
    "num2  = 20 if num < 10 else 5\n",
    "# if num < 10:\n",
    "#     num = 10 \n",
    "# else:\n",
    "#     num - 5\n",
    "\n",
    "print(\"num>>>\",num)\n",
    "print(\"num2>>>\",num2)"
   ]
  },
  {
   "cell_type": "markdown",
   "metadata": {},
   "source": [
    "**Enumerated Function**"
   ]
  },
  {
   "cell_type": "code",
   "execution_count": 21,
   "metadata": {},
   "outputs": [
    {
     "name": "stdout",
     "output_type": "stream",
     "text": [
      "abdullah\n",
      "asslamo alaikum Abdullah abdullah\n",
      "['Ali', 'abdullah', 'amir']\n",
      "asslamo alaikum Abdullah abdullah\n",
      "['Ali', 'abdullah', 'amir']\n",
      "asslamo alaikum Abdullah abdullah\n",
      "['Ali', 'abdullah', 'amir']\n"
     ]
    }
   ],
   "source": [
    "#          0   ,   1       , 2\n",
    "names = [\"Ali\", \"abdullah\", \"amir\"]\n",
    "\n",
    "print(names[1])\n",
    "\n",
    "for name in names:\n",
    "\n",
    "    names[1] == \"Adbullah\"\n",
    "    print(\"asslamo alaikum Abdullah\", names[1])\n",
    "\n",
    "    print(names)"
   ]
  },
  {
   "cell_type": "markdown",
   "metadata": {},
   "source": [
    "new all function start"
   ]
  },
  {
   "cell_type": "code",
   "execution_count": 22,
   "metadata": {},
   "outputs": [
    {
     "name": "stdout",
     "output_type": "stream",
     "text": [
      "filtered_list [4, 5]\n"
     ]
    }
   ],
   "source": [
    "#filter   \n",
    "numbers = [1,2,3,4,5]\n",
    "\n",
    "def filter_function (num: int):\n",
    "    return num > 3\n",
    "\n",
    "filtered_list = list(filter(filter_function, numbers))\n",
    "print(\"filtered_list\", filtered_list)"
   ]
  },
  {
   "cell_type": "code",
   "execution_count": 23,
   "metadata": {},
   "outputs": [
    {
     "name": "stdout",
     "output_type": "stream",
     "text": [
      "number is less than 10\n"
     ]
    }
   ],
   "source": [
    "num: int = 10\n",
    "if num > 10:\n",
    " int(\"number is greator than 10\")\n",
    " num = num + 10\n",
    " print(\"num>>>\", num)\n",
    "else:\n",
    "    print(\"number is less than 10\")"
   ]
  },
  {
   "cell_type": "code",
   "execution_count": 24,
   "metadata": {},
   "outputs": [
    {
     "name": "stdout",
     "output_type": "stream",
     "text": [
      "num>>> 5\n",
      "num2>>> 20\n"
     ]
    }
   ],
   "source": [
    "num = 5\n",
    "# # num2 = agaer condition true value 20 warana value 10\n",
    "# num = 10 if num < 10 else 5\n",
    "\n",
    "num2  = 20 if num < 10 else 5\n",
    "# if num < 10:\n",
    "#     num = 10 \n",
    "# else:\n",
    "#     num - 5\n",
    "\n",
    "print(\"num>>>\",num)\n",
    "print(\"num2>>>\",num2)"
   ]
  },
  {
   "cell_type": "markdown",
   "metadata": {},
   "source": [
    "Enumerated Function"
   ]
  },
  {
   "cell_type": "code",
   "execution_count": 25,
   "metadata": {},
   "outputs": [
    {
     "name": "stdout",
     "output_type": "stream",
     "text": [
      "index 0\n",
      "['Ali', 'abdullah', 'amir']\n",
      "index 1\n",
      "['Ali', 'abdullah', 'amir']\n",
      "index 2\n",
      "['Ali', 'abdullah', 'amir']\n"
     ]
    }
   ],
   "source": [
    "#          0   ,   1       , 2\n",
    "names = [\"Ali\", \"abdullah\", \"amir\"]\n",
    "\n",
    "#print(names[1])\n",
    "\n",
    "index = 0\n",
    "\n",
    "for name in names:\n",
    "    print(\"index\",index)\n",
    "\n",
    "    # if names[1] == \"Adbullah\":\n",
    "    #     print(\"asslamo alaikum Abdullah\", names[1])\n",
    "\n",
    "    print(names)\n",
    "    index = index + 1"
   ]
  },
  {
   "cell_type": "code",
   "execution_count": 26,
   "metadata": {},
   "outputs": [
    {
     "name": "stdout",
     "output_type": "stream",
     "text": [
      "name 0: ['Ali', 'abdullah', 'amir']\n",
      "name 1: ['Ali', 'abdullah', 'amir']\n",
      "name 2: ['Ali', 'abdullah', 'amir']\n"
     ]
    }
   ],
   "source": [
    "#          0   ,   1       , 2\n",
    "names = [\"Ali\", \"abdullah\", \"amir\"]\n",
    "\n",
    "#print(names[1])\n",
    "\n",
    "index = 0\n",
    "\n",
    "for name in names:\n",
    "    # print(\"index\",index)\n",
    "    # print(names)\n",
    "    # index = index + 1\n",
    "  print(f\"name {index}: {names}\")\n",
    "  index = index + 1"
   ]
  },
  {
   "cell_type": "code",
   "execution_count": 27,
   "metadata": {},
   "outputs": [
    {
     "name": "stdout",
     "output_type": "stream",
     "text": [
      "Asslamoalaikum Abdullah\n",
      "name1: abdullah\n"
     ]
    }
   ],
   "source": [
    "names = [\"Ali\", \"abdullah\", \"amir\"]\n",
    " \n",
    "# names [0] \"ali\"\n",
    "\n",
    "# [(0, ali), (1 abdullah), (2 amir)]\n",
    "# for index, num in enumerate(names):\n",
    "#     print(f\"name {index}: {names}\")\n",
    "\n",
    "for index,name in enumerate(names):\n",
    "    # names [0] first time name ali\n",
    "    #names [1] second loop abdullah\n",
    "    #  adullah == abdullah\n",
    "    if names[index] == \"abdullah\":\n",
    "     print(\"Asslamoalaikum Abdullah\")\n",
    "\n",
    "     print(f\"name{index}: {name}\")\n",
    "     index = index + 1"
   ]
  },
  {
   "cell_type": "markdown",
   "metadata": {},
   "source": [
    "Map , filter Reduces Function"
   ]
  },
  {
   "cell_type": "code",
   "execution_count": 28,
   "metadata": {},
   "outputs": [
    {
     "name": "stdout",
     "output_type": "stream",
     "text": [
      "new_list  before loop\n",
      "num>>>>> 1\n",
      "calling  square function\n",
      "num>>> 1\n",
      "adding element to list\n",
      "num>>>>> 2\n",
      "calling  square function\n",
      "num>>> 4\n",
      "adding element to list\n",
      "num>>>>> 3\n",
      "calling  square function\n",
      "num>>> 9\n",
      "adding element to list\n",
      "num>>>>> 4\n",
      "calling  square function\n",
      "num>>> 16\n",
      "adding element to list\n",
      "num>>>>> 5\n",
      "calling  square function\n",
      "num>>> 25\n",
      "adding element to list\n"
     ]
    }
   ],
   "source": [
    "numbers = [1,2,3,4,5]\n",
    "#new_list>>>>, [1, 4, 9, 16, 25]\n",
    "\n",
    "def square (num: int):\n",
    "    return num * num\n",
    "#print (square(2))\n",
    "#square(2)\n",
    "new_list = [] # empty list \n",
    "print(\"new_list  before loop\")\n",
    "for num in numbers:\n",
    "    print(\"num>>>>>\", num)\n",
    "    print(\"calling  square function\")\n",
    "    num_sqr = square(num)\n",
    "    print(\"num>>>\", num_sqr)\n",
    "    print(\"adding element to list\")\n",
    "    new_list.append(num_sqr)"
   ]
  },
  {
   "cell_type": "code",
   "execution_count": null,
   "metadata": {},
   "outputs": [
    {
     "name": "stdout",
     "output_type": "stream",
     "text": [
      "number>>> [1, 2, 3, 4, 5]\n",
      "new_list>>>>, [1, 4, 9, 16, 25]\n"
     ]
    }
   ],
   "source": [
    "#Maps\n",
    "numbers = [1,2,3,4,5]\n",
    "\n",
    "def square (num: int):\n",
    "    return num * num\n",
    "# new_list = map(square,numbers)     # square firts argument  number 2 arguemnet map fuction give us new list  map is function is map take 2 arguments\n",
    "new_list = list(map(square,numbers)) \n",
    "print(\"number>>>\", numbers)\n",
    "print(\"new_list>>>>,\", new_list)"
   ]
  },
  {
   "cell_type": "code",
   "execution_count": 30,
   "metadata": {},
   "outputs": [
    {
     "name": "stdout",
     "output_type": "stream",
     "text": [
      "filtered_list [4, 5]\n"
     ]
    }
   ],
   "source": [
    "#filter   \n",
    "numbers = [1,2,3,4,5]\n",
    "\n",
    "def filter_function (num: int):\n",
    "    return num > 3\n",
    "\n",
    "filtered_list = list(filter(filter_function, numbers))\n",
    "print(\"filtered_list\", filtered_list)"
   ]
  },
  {
   "cell_type": "code",
   "execution_count": 32,
   "metadata": {},
   "outputs": [
    {
     "name": "stdout",
     "output_type": "stream",
     "text": [
      "filtered_list [False, False, False, True, True]\n"
     ]
    }
   ],
   "source": [
    "#filter    or if we using map function is tell true and flase \n",
    "numbers = [1,2,3,4,5]\n",
    "\n",
    "def filter_function (num: int):\n",
    "    return num > 3\n",
    "\n",
    "filtered_list = list(map(filter_function, numbers))\n",
    "print(\"filtered_list\", filtered_list)\n",
    "\n",
    "# H.w reduce function"
   ]
  },
  {
   "cell_type": "markdown",
   "metadata": {},
   "source": [
    "Class Assigment\n",
    "**\"Reduce\"**"
   ]
  },
  {
   "cell_type": "code",
   "execution_count": 34,
   "metadata": {},
   "outputs": [
    {
     "name": "stdout",
     "output_type": "stream",
     "text": [
      "numbers>>> [1, 2, 3, 4, 5]\n",
      "reduce>>>> 120\n"
     ]
    }
   ],
   "source": [
    "from functools import reduce\n",
    "def multiply (x,y):\n",
    "    return x * y\n",
    "numbers = [1,2,3,4,5]\n",
    "print(\"numbers>>>\", numbers)\n",
    "print(\"reduce>>>>\", reduce(multiply, numbers))"
   ]
  },
  {
   "cell_type": "code",
   "execution_count": 35,
   "metadata": {},
   "outputs": [
    {
     "name": "stdout",
     "output_type": "stream",
     "text": [
      "numbers>>> [1, 2, 3, 4, 5]\n",
      "reduce>>>> 120\n"
     ]
    }
   ],
   "source": [
    "from functools import reduce\n",
    "\n",
    "numbers = [1, 2, 3, 4, 5]\n",
    "print(\"numbers>>>\", numbers)\n",
    "print(\"reduce>>>>\", reduce(lambda x, y: x * y, numbers))\n"
   ]
  },
  {
   "cell_type": "code",
   "execution_count": 36,
   "metadata": {},
   "outputs": [
    {
     "name": "stdout",
     "output_type": "stream",
     "text": [
      "Name List: Ali, Rohaan, Rehman, Rehan\n"
     ]
    }
   ],
   "source": [
    "from functools import reduce\n",
    "\n",
    "names = [\"Ali\", \"Rohaan\", \"Rehman\", \"Rehan\"]\n",
    "\n",
    "# Using reduce to format the names\n",
    "name_list = reduce(lambda x, y: x + \", \" + y, names)\n",
    "\n",
    "print(\"Name List:\", name_list) \n"
   ]
  }
 ],
 "metadata": {
  "kernelspec": {
   "display_name": "Python 3",
   "language": "python",
   "name": "python3"
  },
  "language_info": {
   "codemirror_mode": {
    "name": "ipython",
    "version": 3
   },
   "file_extension": ".py",
   "mimetype": "text/x-python",
   "name": "python",
   "nbconvert_exporter": "python",
   "pygments_lexer": "ipython3",
   "version": "3.9.6"
  }
 },
 "nbformat": 4,
 "nbformat_minor": 2
}
