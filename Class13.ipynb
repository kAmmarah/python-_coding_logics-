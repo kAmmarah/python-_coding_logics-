{
  "nbformat": 4,
  "nbformat_minor": 0,
  "metadata": {
    "colab": {
      "provenance": [],
      "authorship_tag": "ABX9TyPRL7nWXsN7cD6s+2cMjNJV",
      "include_colab_link": true
    },
    "kernelspec": {
      "name": "python3",
      "display_name": "Python 3"
    },
    "language_info": {
      "name": "python"
    }
  },
  "cells": [
    {
      "cell_type": "markdown",
      "metadata": {
        "id": "view-in-github",
        "colab_type": "text"
      },
      "source": [
        "<a href=\"https://colab.research.google.com/github/kAmmarah/python-_coding_logics-/blob/main/Class13.ipynb\" target=\"_parent\"><img src=\"https://colab.research.google.com/assets/colab-badge.svg\" alt=\"Open In Colab\"/></a>"
      ]
    },
    {
      "cell_type": "markdown",
      "source": [
        "1 - is VS ==\n",
        "2 - Generators\n",
        "3 - List Comprehensiom"
      ],
      "metadata": {
        "id": "wF5iiVZY1ukb"
      }
    },
    {
      "cell_type": "code",
      "execution_count": null,
      "metadata": {
        "id": "mAqRAWLl1R9z"
      },
      "outputs": [],
      "source": [
        "# string\n",
        "# Integer\n",
        "# float\n",
        "# boolean\n",
        "# list\n",
        "# tuple\n",
        "# dict\n",
        "# set\n",
        "# None"
      ]
    },
    {
      "cell_type": "markdown",
      "source": [
        "Mutable Data Types (we can change esily)"
      ],
      "metadata": {
        "id": "ZEqDkH3N2Pi0"
      }
    },
    {
      "cell_type": "code",
      "source": [
        "# list\n",
        "# dictionary\n",
        "# set"
      ],
      "metadata": {
        "id": "4oHwcau32cRz"
      },
      "execution_count": null,
      "outputs": []
    },
    {
      "cell_type": "markdown",
      "source": [
        "link.textImmutable (jo change na ho ske)"
      ],
      "metadata": {
        "id": "8QLWFxGN2jNU"
      }
    },
    {
      "cell_type": "code",
      "source": [
        "# string\n",
        "# integer\n",
        "# boolean\n",
        "# tuple\n",
        "# float\n",
        "# None"
      ],
      "metadata": {
        "id": "Ntyc6xUa2nuH"
      },
      "execution_count": null,
      "outputs": []
    },
    {
      "cell_type": "code",
      "source": [
        "dishes = [\"samose\", \"channa chat\", \"Dahi bala\"]\n",
        "dishes.append(\"jalabi\")\n",
        "print(dishes)"
      ],
      "metadata": {
        "colab": {
          "base_uri": "https://localhost:8080/"
        },
        "id": "2c_cuEs02sVF",
        "outputId": "558139ab-a686-4b3d-b23b-f020e24d4a42"
      },
      "execution_count": 14,
      "outputs": [
        {
          "output_type": "stream",
          "name": "stdout",
          "text": [
            "['samose', 'channa chat', 'Dahi bala', 'jalabi']\n"
          ]
        }
      ]
    },
    {
      "cell_type": "code",
      "source": [
        "name: str = \" Sir Aneeq\"\n",
        "number: int= 20\n",
        "\n",
        "print(name)"
      ],
      "metadata": {
        "colab": {
          "base_uri": "https://localhost:8080/"
        },
        "id": "qIBfVR6x2wvC",
        "outputId": "14be41ee-b90b-483c-ddb2-944b2826528b"
      },
      "execution_count": 15,
      "outputs": [
        {
          "output_type": "stream",
          "name": "stdout",
          "text": [
            " Sir Aneeq\n"
          ]
        }
      ]
    },
    {
      "cell_type": "code",
      "source": [
        "list1 = [1,2,3,4,5]\n",
        "list2 = [1,2,3,4,5]\n",
        "\n",
        "print(list1 == list2)\n",
        "print(list1 is list2)"
      ],
      "metadata": {
        "colab": {
          "base_uri": "https://localhost:8080/"
        },
        "id": "Z5eboc0F26Xf",
        "outputId": "dc7c4bf0-2d8f-4b92-80c0-69c2a6a60411"
      },
      "execution_count": 16,
      "outputs": [
        {
          "output_type": "stream",
          "name": "stdout",
          "text": [
            "True\n",
            "False\n"
          ]
        }
      ]
    },
    {
      "cell_type": "code",
      "source": [
        "list1 = [1,2,3,4,5]\n",
        "list2 = list1\n",
        "\n",
        "print(list1 == list2)\n",
        "print(list1 is list2)"
      ],
      "metadata": {
        "colab": {
          "base_uri": "https://localhost:8080/"
        },
        "id": "nW57BuIt2-3u",
        "outputId": "9d3e06ac-bcd6-4e7f-cd51-2712ac5e5863"
      },
      "execution_count": 17,
      "outputs": [
        {
          "output_type": "stream",
          "name": "stdout",
          "text": [
            "True\n",
            "True\n"
          ]
        }
      ]
    },
    {
      "cell_type": "code",
      "source": [
        "\n",
        "name1 = \"Ali how are you? i am fine\"\n",
        "name2 = \"Ali how are you? i am fine\"\n",
        "num1 = 1\n",
        "num2 = 2.5\n",
        "\n",
        "bool1 = True\n",
        "bool2 = True\n",
        "\n",
        "print(name1 is name2)\n",
        "print(num1  is num2)\n",
        "print(bool1 is bool2)"
      ],
      "metadata": {
        "colab": {
          "base_uri": "https://localhost:8080/"
        },
        "id": "I-y2dl8o3BYJ",
        "outputId": "38fcc17f-e728-4e13-893c-f9f4ef719edf"
      },
      "execution_count": 18,
      "outputs": [
        {
          "output_type": "stream",
          "name": "stdout",
          "text": [
            "False\n",
            "False\n",
            "True\n"
          ]
        }
      ]
    },
    {
      "cell_type": "code",
      "source": [
        "list1 = [1,2,3,4,5]\n",
        "list2 = list1  # list1 ka reference\n",
        "list1.append(6) # [1,2,3,4,5,6]\n",
        "\n",
        "print(\"list2>>>\",list2) # list1 ka reference"
      ],
      "metadata": {
        "colab": {
          "base_uri": "https://localhost:8080/"
        },
        "id": "TyrAmo-73MXj",
        "outputId": "5ef1bdf3-a25d-426d-e7c9-244a7bb455fe"
      },
      "execution_count": 19,
      "outputs": [
        {
          "output_type": "stream",
          "name": "stdout",
          "text": [
            "list2>>> [1, 2, 3, 4, 5, 6]\n"
          ]
        }
      ]
    },
    {
      "cell_type": "code",
      "source": [
        "value1: str = \"how are you? \"\n",
        "value2: str = value1 #  \"how are you? \"\n",
        "\n",
        "value1 = \"I am fine\"\n",
        "value2 = value1 # \"I am fine\"\n",
        "\n",
        "print(value2)"
      ],
      "metadata": {
        "colab": {
          "base_uri": "https://localhost:8080/"
        },
        "id": "WhiN0vi23RIP",
        "outputId": "a743ce98-de7e-4c91-9868-189cc479ab6b"
      },
      "execution_count": 20,
      "outputs": [
        {
          "output_type": "stream",
          "name": "stdout",
          "text": [
            "I am fine\n"
          ]
        }
      ]
    },
    {
      "cell_type": "code",
      "source": [
        "sqr_list = []\n",
        "def get_sqr_list(n: int):\n",
        "   for num in range(0,n):  #[0,1,2,3,4]\n",
        "    # print(\"num>>>\",num)\n",
        "    sqr_num = num * num # 0 * 0 -> 1 * 1 -> 2 * 2\n",
        "    # print(\"sqr_num>>\",sqr_num)\n",
        "    sqr_list.append(sqr_num) # [] -> [0] -> [0,1] ->  [0,1,4]\n",
        "\n",
        "get_sqr_list(5)\n",
        "print(sqr_list)"
      ],
      "metadata": {
        "colab": {
          "base_uri": "https://localhost:8080/"
        },
        "id": "9ozVg1oL3XSy",
        "outputId": "280d3878-4ed4-48f2-f4c9-7baa77439e6d"
      },
      "execution_count": 21,
      "outputs": [
        {
          "output_type": "stream",
          "name": "stdout",
          "text": [
            "[0, 1, 4, 9, 16]\n"
          ]
        }
      ]
    },
    {
      "cell_type": "code",
      "source": [
        "def get_sqr_list(n: int):\n",
        "  # for num in range(n):\n",
        "        # num * num\n",
        "    # sqr_list = [output loop with condition]\n",
        "  # sqr_list = [num * num for num in range(n)]\n",
        "  sqr_list = [num * num for num in range(5)]\n",
        "  print(\"sqr_list>>>\",sqr_list)\n",
        "\n",
        "\n",
        "get_sqr_list(5)"
      ],
      "metadata": {
        "colab": {
          "base_uri": "https://localhost:8080/"
        },
        "id": "A1RqMoVN3dep",
        "outputId": "4ce43189-7e4c-42c9-a00b-4b4e3a3289e6"
      },
      "execution_count": 22,
      "outputs": [
        {
          "output_type": "stream",
          "name": "stdout",
          "text": [
            "sqr_list>>> [0, 1, 4, 9, 16]\n"
          ]
        }
      ]
    },
    {
      "cell_type": "code",
      "source": [
        "numbers = [1,2,3,4,5,6,7,8,9,10]\n",
        "even_numbers = []\n",
        "\n",
        "# if num % 2 == 0:\n",
        "#    print(\"number is even\")\n",
        "# print(13  % 2 )\n",
        "\n",
        "for num in numbers:\n",
        "  if num % 2 == 0:\n",
        "    even_numbers.append(num)\n",
        "\n",
        "print(even_numbers)"
      ],
      "metadata": {
        "colab": {
          "base_uri": "https://localhost:8080/"
        },
        "id": "T8rV1RXL3kus",
        "outputId": "63fdb068-c50a-4a6b-e4c6-869f3b6659f5"
      },
      "execution_count": 23,
      "outputs": [
        {
          "output_type": "stream",
          "name": "stdout",
          "text": [
            "[2, 4, 6, 8, 10]\n"
          ]
        }
      ]
    },
    {
      "cell_type": "code",
      "source": [
        "numbers = [1,2,3,4,5,6,7,8,9,10]\n",
        "#  num ko return kro agr num wo even he\n",
        "even_list = [num for num in numbers if num % 2 == 0]\n",
        "\n",
        "print(even_list)"
      ],
      "metadata": {
        "colab": {
          "base_uri": "https://localhost:8080/"
        },
        "id": "BpYCjH9Y3ps5",
        "outputId": "fc143a31-146e-4898-ee94-23d41100b5ef"
      },
      "execution_count": 24,
      "outputs": [
        {
          "output_type": "stream",
          "name": "stdout",
          "text": [
            "[2, 4, 6, 8, 10]\n"
          ]
        }
      ]
    },
    {
      "cell_type": "code",
      "source": [
        "def get_numbers():\n",
        "  result = []\n",
        "  for num in range(0,11):\n",
        "    result.append(num)\n",
        "  return result\n",
        "\n",
        "\n",
        "number_list =get_numbers()\n",
        "print(number_list)"
      ],
      "metadata": {
        "colab": {
          "base_uri": "https://localhost:8080/"
        },
        "id": "huRGe3Hm3q64",
        "outputId": "4a3dceee-3e7d-47d1-8443-a06b505288fe"
      },
      "execution_count": 25,
      "outputs": [
        {
          "output_type": "stream",
          "name": "stdout",
          "text": [
            "[0, 1, 2, 3, 4, 5, 6, 7, 8, 9, 10]\n"
          ]
        }
      ]
    },
    {
      "cell_type": "code",
      "source": [
        "def get_generated_values():\n",
        "  for num in range(0,11):\n",
        "    yield num  # 0 -> 1\n",
        "\n",
        "\n",
        "result = get_generated_values()\n",
        "# print(next(result))\n",
        "# print(next(result))\n",
        "# print(next(result))\n",
        "# print(next(result))\n",
        "# print(next(result))\n",
        "# print(next(result))\n",
        "# print(next(result))\n",
        "# print(next(result))\n",
        "# print(next(result))\n",
        "# print(next(result))\n",
        "# print(next(result))\n",
        "\n",
        "for num in result:\n",
        "  print(\"nuum>>>\",num)\n",
        "\n",
        "\n",
        "# print(\"result>>\",result)"
      ],
      "metadata": {
        "colab": {
          "base_uri": "https://localhost:8080/"
        },
        "id": "xe5q98Yo3tEm",
        "outputId": "a414cd9f-5f9b-4d95-e157-dc674e63fc86"
      },
      "execution_count": 26,
      "outputs": [
        {
          "output_type": "stream",
          "name": "stdout",
          "text": [
            "nuum>>> 0\n",
            "nuum>>> 1\n",
            "nuum>>> 2\n",
            "nuum>>> 3\n",
            "nuum>>> 4\n",
            "nuum>>> 5\n",
            "nuum>>> 6\n",
            "nuum>>> 7\n",
            "nuum>>> 8\n",
            "nuum>>> 9\n",
            "nuum>>> 10\n"
          ]
        }
      ]
    }
  ]
}